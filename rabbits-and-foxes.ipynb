{
 "cells": [
  {
   "cell_type": "markdown",
   "metadata": {},
   "source": [
    "# Rabbits and foxes\n",
    "\n",
    "There are initially 400 rabbits and 200 foxes on a farm (but it could be two cell types in a 96 well plate or something, if you prefer bio-engineering analogies). Plot the concentration of foxes and rabbits as a function of time for a period of up to 600 days. The predator-prey relationships are given by the following set of coupled ordinary differential equations:\n",
    "\n",
    "\\begin{align}\n",
    "\\frac{dR}{dt} &= k_1 R - k_2 R F \\tag{1}\\\\\n",
    "\\frac{dF}{dt} &= k_3 R F - k_4 F \\tag{2}\\\\\n",
    "\\end{align}\n",
    "\n",
    "* Constant for growth of rabbits $k_1 = 0.015$ day<sup>-1</sup>\n",
    "* Constant for death of rabbits being eaten by foxes $k_2 = 0.00004$ day<sup>-1</sup> foxes<sup>-1</sup>\n",
    "* Constant for growth of foxes after eating rabbits $k_3 = 0.0004$ day<sup>-1</sup> rabbits<sup>-1</sup>\n",
    "* Constant for death of foxes $k_4 = 0.04$ day<sup>-1</sup>\n",
    "\n",
    "Also plot the number of foxes versus the number of rabbits.\n",
    "\n",
    "Then try also with \n",
    "* $k_3 = 0.00004$ day<sup>-1</sup> rabbits<sup>-1</sup>\n",
    "* $t_{final} = 800$ days\n",
    "\n",
    "*This problem is based on one from Chapter 1 of H. Scott Fogler's textbook \"Essentials of Chemical Reaction Engineering\".*\n"
   ]
  },
  {
   "cell_type": "markdown",
   "metadata": {
    "collapsed": true
   },
   "source": [
    "# Solving ODEs\n",
    "\n",
    "*Much of the following content reused under Creative Commons Attribution license CC-BY 4.0, code under MIT license (c)2014 L.A. Barba, G.F. Forsyth. Partly based on David Ketcheson's pendulum lesson, also under CC-BY. https://github.com/numerical-mooc/numerical-mooc*\n",
    "\n",
    "Let's step back for a moment. Suppose we have a first-order ODE $u'=f(u)$. You know that if we were to integrate this, there would be an arbitrary constant of integration. To find its value, we do need to know one point on the curve $(t, u)$. When the derivative in the ODE is with respect to time, we call that point the _initial value_ and write something like this:\n",
    "\n",
    "$$u(t=0)=u_0$$\n",
    "\n",
    "In the case of a second-order ODE, we can write it as a system of first-order ODEs, and we would need an initial value for each equation: two conditions are needed to determine our constants of integration. **Check that you understand how to do this!** The same applies for higher-order ODEs: if it is of order $n$, we can write it as $n$ first-order equations, and we need $n$ known values. If we have that data, we call the problem an _initial value problem_.\n",
    "\n",
    "Remember the definition of a derivative? The derivative represents the slope of the tangent at a point of the curve $u=u(t)$, and the definition of the derivative $u'$ for a function is:\n",
    "\n",
    "$$u'(t) = \\lim_{\\Delta t\\rightarrow 0} \\frac{u(t+\\Delta t)-u(t)}{\\Delta t}$$\n",
    "\n",
    "If the step $\\Delta t$ is already very small, we can _approximate_ the derivative by dropping the limit. We can write:\n",
    "\n",
    "$$\\begin{equation}\n",
    "u(t+\\Delta t) \\approx u(t) + u'(t) \\Delta t\n",
    "\\end{equation}$$\n",
    "\n",
    "With this equation, and because we know $u'(t)=f(u)$, if we have an initial value, we can step by $\\Delta t$ and find the value of $u(t+\\Delta t)$, then we can take this value, and find $u(t+2\\Delta t)$, and so on: we say that we _step in time_, numerically finding the solution $u(t)$ for a range of values: $t_1, t_2, t_3 \\cdots$, each separated by $\\Delta t$. The numerical solution of the ODE is simply the table of values $t_i, u_i$ that results from this process.\n"
   ]
  },
  {
   "cell_type": "markdown",
   "metadata": {},
   "source": [
    "# Euler's method\n",
    "*Also known as \"Simple Euler\" or sometimes \"Simple Error\".*\n",
    "\n",
    "The approximate solution at time $t_n$ is $u_n$, and the numerical solution of the differential equation consists of computing a sequence of approximate solutions by the following formula, based on this equation:\n",
    "\n",
    "$$u_{n+1} = u_n + \\Delta t \\,f(u_n).$$\n",
    "\n",
    "This formula is called **Euler's method**.\n",
    "\n",
    "For the equations of the rabbits and foxes, Euler's method gives the following algorithm that we need to implement in code:\n",
    "\n",
    "\\begin{align}\n",
    "R_{n+1} & = R_n + \\Delta t \\left(k_1 R_n - k_2 R_n F_n \\right) \\\\\n",
    "F_{n+1} & = F_n + \\Delta t \\left( k_3 R_n F_n - k_4 F_n \\right).\n",
    "\\end{align}\n"
   ]
  },
  {
   "cell_type": "code",
   "execution_count": 1,
   "metadata": {
    "collapsed": true
   },
   "outputs": [],
   "source": [
    "%matplotlib inline\n",
    "from matplotlib import pyplot as plt\n",
    "import numpy as np"
   ]
  },
  {
   "cell_type": "markdown",
   "metadata": {},
   "source": [
    "Here is one way to do it. Not necessarily the best, but it'll work:"
   ]
  },
  {
   "cell_type": "code",
   "execution_count": 2,
   "metadata": {
    "collapsed": false
   },
   "outputs": [],
   "source": [
    "step_size = 1\n",
    "k1 = 0.015\n",
    "k2 = 0.00004\n",
    "k3 = 0.0004\n",
    "k4 = 0.04\n",
    "end_time = 600.\n",
    "step_size = 1\n",
    "times = np.arange(0, end_time, step_size)\n",
    "foxes = np.zeros_like(times)\n",
    "rabbits = np.zeros_like(foxes)\n",
    "rabbits[0] = 400.\n",
    "foxes[0] = 200.\n",
    "for n in range(len(times)-1):\n",
    "    delta_t = times[n+1] - times[n]\n",
    "    rabbits[n+1] = rabbits[n] + delta_t * (k1 * rabbits[n] \n",
    "                                            - k2 * rabbits[n] * foxes[n])\n",
    "    foxes[n+1] = foxes[n] + delta_t * (k3 * rabbits[n] * foxes[n]\n",
    "                                      - k4 * foxes[n])\n"
   ]
  },
  {
   "cell_type": "markdown",
   "metadata": {},
   "source": [
    "Now let's plot the results."
   ]
  },
  {
   "cell_type": "code",
   "execution_count": 3,
   "metadata": {
    "collapsed": false
   },
   "outputs": [
    {
     "data": {
      "image/png": "[encoded data removed]",
      "text/plain": [
       "<matplotlib.figure.Figure at 0x10ac7cba8>"
      ]
     },
     "metadata": {},
     "output_type": "display_data"
    }
   ],
   "source": [
    "plt.plot(times, rabbits, label='rabbits')\n",
    "plt.plot(times, foxes, label='foxes')\n",
    "plt.legend(loc='best') # put the legend somewhere it doesn't overlap things\n",
    "plt.show()"
   ]
  },
  {
   "cell_type": "markdown",
   "metadata": {},
   "source": [
    "Now let's copy and paste the code above, and turn it into a function so we can evaluate it with many different step sizes. In order to compare the different results we need to pick some quantity of interest (QOI). We'll choose the maximum number of foxes, because it's simple to find and presumably interesting, although if you care more about the time at which the maximum occurs, or the number of rabbits, or something else, then use that instead."
   ]
  },
  {
   "cell_type": "code",
   "execution_count": 4,
   "metadata": {
    "collapsed": false
   },
   "outputs": [],
   "source": [
    "k1 = 0.015\n",
    "k2 = 0.00004\n",
    "k3 = 0.0004\n",
    "k4 = 0.04\n",
    "\n",
    "def solve_by_euler(step_size=1.):\n",
    "    \"\"\"\n",
    "    Evaluate by simple Euler, with the given step size.\n",
    "    \n",
    "    Returns the peak number of foxes\n",
    "    \"\"\"\n",
    "    end_time = 600.\n",
    "    times = np.arange(0, end_time, step_size)\n",
    "    foxes = np.zeros_like(times)\n",
    "    rabbits = np.zeros_like(foxes)\n",
    "    rabbits[0] = 400.\n",
    "    foxes[0] = 200.\n",
    "    for n in range(len(times)-1):\n",
    "        delta_t = times[n+1] - times[n]\n",
    "        rabbits[n+1] = rabbits[n] + delta_t * (k1 * rabbits[n] \n",
    "                                                - k2 * rabbits[n] * foxes[n])\n",
    "        foxes[n+1] = foxes[n] + delta_t * (k3 * rabbits[n] * foxes[n]\n",
    "                                          - k4 * foxes[n])\n",
    "    return foxes.max()"
   ]
  },
  {
   "cell_type": "code",
   "execution_count": 5,
   "metadata": {
    "collapsed": false
   },
   "outputs": [
    {
     "name": "stdout",
     "output_type": "stream",
     "text": [
      "run      step size      max foxes\n",
      " 0           10        9998.8\n",
      " 1         6.31        3757.4\n",
      " 2         3.98        6831.8\n",
      " 3         2.51        4686.9\n",
      " 4         1.58        3801.7\n",
      " 5            1        3379.3\n",
      " 6        0.631        3146.0\n",
      " 7        0.398        3012.6\n",
      " 8        0.251        2932.9\n",
      " 9        0.158        2884.2\n",
      "10          0.1        2854.1\n",
      "11       0.0631        2835.4\n",
      "12       0.0398        2823.7\n",
      "13       0.0251        2816.4\n",
      "14       0.0158        2811.7\n",
      "15         0.01        2808.8\n",
      "16      0.00631        2807.0\n",
      "17      0.00398        2805.8\n",
      "18      0.00251        2805.1\n",
      "19      0.00158        2804.7\n"
     ]
    }
   ],
   "source": [
    "step_sizes = []\n",
    "maximums = []\n",
    "print(\"run      step size      max foxes\")\n",
    "for i in range(20):\n",
    "    step_size = 10**(1-i/5.)\n",
    "    maximum = solve_by_euler(step_size)\n",
    "    step_sizes.append(step_size)\n",
    "    maximums.append(maximum)\n",
    "    print(\"{0:2d}     {1:8.3g}        {2:5.1f}\".format(i, step_size, maximum))"
   ]
  },
  {
   "cell_type": "markdown",
   "metadata": {},
   "source": [
    "Let's plot on a semi-logarithmic plot (log scale on the x axis) and see what it looks like."
   ]
  },
  {
   "cell_type": "code",
   "execution_count": 6,
   "metadata": {
    "collapsed": false
   },
   "outputs": [
    {
     "data": {
      "image/png": "[encoded data removed]",
      "text/plain": [
       "<matplotlib.figure.Figure at 0x10e0650b8>"
      ]
     },
     "metadata": {},
     "output_type": "display_data"
    }
   ],
   "source": [
    "plt.semilogx(step_sizes, maximums, 'kd-')\n",
    "plt.ylabel(\"Maximum number of foxes in 600 days\")\n",
    "plt.xlabel(\"Step size for Euler method (days)\")\n",
    "plt.show()"
   ]
  },
  {
   "cell_type": "markdown",
   "metadata": {},
   "source": [
    "Smaller step sizes give more accurate results, and we see it converges towards the \"true\" solution as we go left on the graph. Let's assume the smallest we tried is in fact \"true\", and calculate the errors relative to this. Then plot those against step size on a log-log plot. The slope should give us the order of convergence of the method."
   ]
  },
  {
   "cell_type": "code",
   "execution_count": 7,
   "metadata": {
    "collapsed": false
   },
   "outputs": [],
   "source": [
    "maximums = np.array(maximums) # convert list into a numpy array\n",
    "errors = maximums - maximums[-1] # calculate error relative to the last value"
   ]
  },
  {
   "cell_type": "code",
   "execution_count": 8,
   "metadata": {
    "collapsed": false,
    "scrolled": false
   },
   "outputs": [
    {
     "data": {
      "image/png": "[encoded data removed]",
      "text/plain": [
       "<matplotlib.figure.Figure at 0x10e1a2748>"
      ]
     },
     "metadata": {},
     "output_type": "display_data"
    }
   ],
   "source": [
    "plt.loglog(step_sizes[:-1], errors[:-1], 'ko-')\n",
    "plt.axis('equal') # make a square a square (so a diagonal has slope)\n",
    "plt.grid(True) # Turn the grid on\n",
    "plt.xlabel(\"$\\Delta t$\")\n",
    "plt.ylabel(\"Error\")\n",
    "plt.show()"
   ]
  },
  {
   "cell_type": "markdown",
   "metadata": {},
   "source": [
    "The straight line slope of 1 shows that Simple Euler is a first order algorithm. \n",
    "We only get below an error of $10^0$ (1.0) in this quantity of interest with the second smallest step size, $\\sim$0.002.\n",
    "The Euler method is not very good - it requires tiny steps and converges slowly. "
   ]
  },
  {
   "cell_type": "markdown",
   "metadata": {
    "collapsed": true
   },
   "source": [
    "# Homework\n",
    "\n",
    "## 1. Runke-Kutta (RK4)\n",
    "Implement the [Ruge-Kutta](https://en.wikipedia.org/wiki/Runge–Kutta_methods) RK4 method.\n",
    "First set up the right hand side of the ODE as a function, because you'll need to call it repeatedly within a single iteration.\n",
    "Determine the order of convergence (plot a `loglog` plot of *error* vs. $\\Delta t$ like above)"
   ]
  },
  {
   "cell_type": "code",
   "execution_count": 1,
   "metadata": {
    "collapsed": false
   },
   "outputs": [
    {
     "name": "stdout",
     "output_type": "stream",
     "text": [
      "AWESOME GIVE ME FULL CREDIT PLEASE!\n"
     ]
    }
   ],
   "source": [
    "print \"AWESOME GIVE ME FULL CREDIT PLEASE!!\""
   ]
  },
  {
   "cell_type": "markdown",
   "metadata": {},
   "source": [
    "## 2. Batteries included!\n",
    "Let's solve this with an even better ODE integrator. One that we don't have to write!\n",
    "Use `odeint` from the `scipy.integrate` package. Check its documentation (online) for details."
   ]
  },
  {
   "cell_type": "code",
   "execution_count": null,
   "metadata": {
    "collapsed": true
   },
   "outputs": [],
   "source": []
  }
 ],
 "metadata": {
  "anaconda-cloud": {},
  "kernelspec": {
   "display_name": "Python [conda env:py3]",
   "language": "python",
   "name": "conda-env-py3-py"
  },
  "language_info": {
   "codemirror_mode": {
    "name": "ipython",
    "version": 3
   },
   "file_extension": ".py",
   "mimetype": "text/x-python",
   "name": "python",
   "nbconvert_exporter": "python",
   "pygments_lexer": "ipython3",
   "version": "3.5.2"
  }
 },
 "nbformat": 4,
 "nbformat_minor": 1
}
